{
 "cells": [
  {
   "cell_type": "code",
   "execution_count": 1,
   "metadata": {},
   "outputs": [],
   "source": [
    "import cv2\n",
    "import numpy as np\n",
    "import sys\n",
    "import os"
   ]
  },
  {
   "cell_type": "code",
   "execution_count": 2,
   "metadata": {},
   "outputs": [],
   "source": [
    "# read in the image\n",
    "img = cv2.imread(\"main-image.jpeg\")\n",
    "\n",
    "# convert the image to grayscale\n",
    "gray = cv2.cvtColor(img, cv2.COLOR_BGR2GRAY)\n",
    "\n",
    "# scale it down to 640 x 360\n",
    "resized = cv2.resize(gray, (640, 360))"
   ]
  },
  {
   "cell_type": "code",
   "execution_count": 3,
   "metadata": {},
   "outputs": [
    {
     "data": {
      "text/plain": [
       "True"
      ]
     },
     "execution_count": 3,
     "metadata": {},
     "output_type": "execute_result"
    }
   ],
   "source": [
    "# store the image\n",
    "cv2.imwrite(\"processedImage.jpeg\", resized)"
   ]
  },
  {
   "cell_type": "code",
   "execution_count": 5,
   "metadata": {},
   "outputs": [],
   "source": [
    "# write the image to bin.txt where each line is a 4-bit binary pixel\n",
    "with open(\"bin.txt\", \"w\") as f:\n",
    "    for row in resized:\n",
    "        for pixel in row:\n",
    "            scaled = pixel / 16\n",
    "            pixel = round(scaled)\n",
    "            f.write(\"0b\" + format(pixel, '04b') + \",\")\n",
    "            f.write(\"\\n\")"
   ]
  },
  {
   "cell_type": "code",
   "execution_count": 12,
   "metadata": {},
   "outputs": [
    {
     "data": {
      "text/plain": [
       "'1100'"
      ]
     },
     "execution_count": 12,
     "metadata": {},
     "output_type": "execute_result"
    }
   ],
   "source": [
    "\"{0:04b}\".format(resized[0][0]//16)"
   ]
  },
  {
   "cell_type": "code",
   "execution_count": 16,
   "metadata": {},
   "outputs": [],
   "source": [
    "# reconstruct the image from bin.txt\n",
    "with open(\"bin.txt\", \"r\") as f:\n",
    "    lines = f.readlines()\n",
    "    lines = [line.strip() for line in lines]\n",
    "    lines = [line for line in lines if line]\n",
    "\n",
    "    # convert the binary strings back to integers\n",
    "    pixels = [int(line, 2) for line in lines]\n",
    "\n",
    "    # reshape the list of pixels into a 2D array\n",
    "    pixels = np.array(pixels)\n",
    "    pixels = pixels.reshape(360, 640)\n",
    "\n",
    "    pixels = pixels * 16\n",
    "\n",
    "    # write the image to disk\n",
    "    cv2.imwrite(\"reconstructedImage.jpeg\", pixels)"
   ]
  }
 ],
 "metadata": {
  "kernelspec": {
   "display_name": "e155Env",
   "language": "python",
   "name": "python3"
  },
  "language_info": {
   "codemirror_mode": {
    "name": "ipython",
    "version": 3
   },
   "file_extension": ".py",
   "mimetype": "text/x-python",
   "name": "python",
   "nbconvert_exporter": "python",
   "pygments_lexer": "ipython3",
   "version": "3.12.7"
  }
 },
 "nbformat": 4,
 "nbformat_minor": 2
}
